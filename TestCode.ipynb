{
  "nbformat": 4,
  "nbformat_minor": 0,
  "metadata": {
    "colab": {
      "provenance": [],
      "mount_file_id": "19arp_D9boJrAjRWe9OmjIVUPx8X5q224",
      "authorship_tag": "ABX9TyPHf3usT5rrh86F59mOKVW0",
      "include_colab_link": true
    },
    "kernelspec": {
      "name": "python3",
      "display_name": "Python 3"
    },
    "language_info": {
      "name": "python"
    }
  },
  "cells": [
    {
      "cell_type": "markdown",
      "metadata": {
        "id": "view-in-github",
        "colab_type": "text"
      },
      "source": [
        "<a href=\"https://colab.research.google.com/github/TohowCheng/TohowCheng/blob/main/TestCode.ipynb\" target=\"_parent\"><img src=\"https://colab.research.google.com/assets/colab-badge.svg\" alt=\"Open In Colab\"/></a>"
      ]
    },
    {
      "cell_type": "code",
      "source": [
        "from google.colab import files\n",
        "\n",
        "# 上傳檔案\n",
        "uploaded = files.upload()\n"
      ],
      "metadata": {
        "id": "5i2F6HcAk4ly"
      },
      "execution_count": null,
      "outputs": []
    },
    {
      "cell_type": "code",
      "source": [
        "from google.colab import drive\n",
        "\n",
        "# 授權存取 Google Drive\n",
        "# 之後的Python程式碼，以/content/drive/My Drive表示Google Drive的根目錄\n",
        "drive.mount('/content/drive')\n"
      ],
      "metadata": {
        "colab": {
          "base_uri": "https://localhost:8080/"
        },
        "id": "zfENUneZpCXy",
        "outputId": "0f250be8-8cb3-41a8-b11d-b42272b95aa0"
      },
      "execution_count": 3,
      "outputs": [
        {
          "output_type": "stream",
          "name": "stdout",
          "text": [
            "Mounted at /content/drive\n"
          ]
        }
      ]
    },
    {
      "cell_type": "code",
      "source": [
        "import requests\n",
        "\n",
        "# 定義目標網址\n",
        "url = 'http://www.tpex.org.tw/web/stock/aftertrading/daily_trading_info/st43_result.php?d=107/08&stkno=3105'\n",
        "\n",
        "# 發送 GET 請求\n",
        "response = requests.get(url)\n",
        "\n",
        "# 檢查網頁是否成功載入\n",
        "if response.status_code == 200:\n",
        "    # 提取網頁內容\n",
        "    webpage_content = response.text\n",
        "\n",
        "    # 將網頁內容寫入文字檔 A3105.txt\n",
        "    with open('/content/drive/My Drive/ColabData/A3105.txt', 'w', encoding='utf-8') as file:\n",
        "        file.write(webpage_content)\n",
        "        print(\"資料已成功儲存至 A3105.txt\")\n",
        "else:\n",
        "    print(\"無法取得資料，錯誤碼：\", response.status_code)\n"
      ],
      "metadata": {
        "colab": {
          "base_uri": "https://localhost:8080/"
        },
        "id": "yOCPgpMHLcYb",
        "outputId": "078221d5-7052-44f6-f75a-894fba179400"
      },
      "execution_count": 11,
      "outputs": [
        {
          "output_type": "stream",
          "name": "stdout",
          "text": [
            "資料已成功儲存至 A3105.txt\n"
          ]
        }
      ]
    },
    {
      "cell_type": "code",
      "source": [
        "!pip install opencc-python-reimplemented\n"
      ],
      "metadata": {
        "colab": {
          "base_uri": "https://localhost:8080/"
        },
        "id": "iJVGoE3dOPs1",
        "outputId": "afaa12e1-980e-414b-e914-7637a29571ff"
      },
      "execution_count": 14,
      "outputs": [
        {
          "output_type": "stream",
          "name": "stdout",
          "text": [
            "Collecting opencc-python-reimplemented\n",
            "  Downloading opencc_python_reimplemented-0.1.7-py2.py3-none-any.whl (481 kB)\n",
            "\u001b[?25l     \u001b[90m━━━━━━━━━━━━━━━━━━━━━━━━━━━━━━━━━━━━━━━━\u001b[0m \u001b[32m0.0/481.8 kB\u001b[0m \u001b[31m?\u001b[0m eta \u001b[36m-:--:--\u001b[0m\r\u001b[2K     \u001b[91m━━━━━\u001b[0m\u001b[90m╺\u001b[0m\u001b[90m━━━━━━━━━━━━━━━━━━━━━━━━━━━━━━━━━━\u001b[0m \u001b[32m61.4/481.8 kB\u001b[0m \u001b[31m1.7 MB/s\u001b[0m eta \u001b[36m0:00:01\u001b[0m\r\u001b[2K     \u001b[91m━━━━━━━━━━━━━━━━━━━━━━━━━━━━━━\u001b[0m\u001b[91m╸\u001b[0m\u001b[90m━━━━━━━━━\u001b[0m \u001b[32m368.6/481.8 kB\u001b[0m \u001b[31m5.6 MB/s\u001b[0m eta \u001b[36m0:00:01\u001b[0m\r\u001b[2K     \u001b[90m━━━━━━━━━━━━━━━━━━━━━━━━━━━━━━━━━━━━━━━━\u001b[0m \u001b[32m481.8/481.8 kB\u001b[0m \u001b[31m5.5 MB/s\u001b[0m eta \u001b[36m0:00:00\u001b[0m\n",
            "\u001b[?25hInstalling collected packages: opencc-python-reimplemented\n",
            "Successfully installed opencc-python-reimplemented-0.1.7\n"
          ]
        }
      ]
    },
    {
      "cell_type": "code",
      "source": [
        "import requests\n",
        "import json\n",
        "from opencc import OpenCC\n",
        "\n",
        "# 定義目標網址\n",
        "url = 'http://www.tpex.org.tw/web/stock/aftertrading/daily_trading_info/'+ \\\n",
        "'st43_result.php?d=107/08&stkno=3105'\n",
        "\n",
        "output_file = '/content/drive/My Drive/ColabData/A3105d.json'\n",
        "# 發送 GET 請求\n",
        "response = requests.get(url)\n",
        "\n",
        "# 檢查網頁是否成功載入\n",
        "if response.status_code == 200:\n",
        "    # 提取網頁內容\n",
        "    \"\"\"\n",
        "    webpage_content = response.content.decode('utf-8')\n",
        "\n",
        "    # 創建 OpenCC 物件並設定轉換簡體到繁體\n",
        "    #cc = OpenCC('s2t')  # 's2t': 簡體到繁體\n",
        "    print(\"test\")\n",
        "\n",
        "    # 轉換網頁內容為繁體中文\n",
        "    #traditional_content = cc.convert(webpage_content)\n",
        "    \"\"\"\n",
        "    traditional_content = bytes(response.text, 'utf-8').decode('unicode_escape')\n",
        "\n",
        "    # 將轉換後的內容寫入文字檔 A3105.txt\n",
        "    with open(output_file, 'w', encoding='utf-8') as file:\n",
        "        file.write(traditional_content)\n",
        "        print(f\"資料已成功儲存至 {output_file}\")\n",
        "\n",
        "    # 解析JSON格式字串為Python字典\n",
        "    data = json.loads(traditional_content)\n",
        "\n",
        "    # 顯示解析後的資料\n",
        "    print(data)\n",
        "else:\n",
        "    print(\"無法取得資料，錯誤碼：\", response.status_code)\n"
      ],
      "metadata": {
        "colab": {
          "base_uri": "https://localhost:8080/"
        },
        "id": "o2_b_MV6Nhtr",
        "outputId": "45448e1b-df48-47d6-d5df-cf067ef85f52"
      },
      "execution_count": 24,
      "outputs": [
        {
          "output_type": "stream",
          "name": "stdout",
          "text": [
            "資料已成功儲存至 /content/drive/My Drive/ColabData/A3105d.json\n",
            "{'stkNo': '3105', 'stkName': '穩懋            ', 'showListPriceNote': False, 'showListPriceLink': False, 'reportDate': '107/08', 'iTotalRecords': 23, 'aaData': [['107/08/01', '7,031', '1,090,434', '148.50', '159.00', '148.50', '156.00', '8.00', '4,696'], ['107/08/02', '4,052', '628,318', '158.00', '158.00', '152.00', '156.00', '0.00', '2,937'], ['107/08/03', '5,463', '875,457', '158.50', '163.00', '157.00', '162.00', '6.00', '3,615'], ['107/08/06', '4,183', '688,618', '164.00', '166.00', '162.00', '165.00', '3.00', '2,966'], ['107/08/07', '6,501', '1,097,972', '166.00', '170.50', '166.00', '170.50', '5.50', '4,490'], ['107/08/08', '6,309', '1,087,182', '173.00', '174.00', '169.00', '169.00', '-1.50', '4,208'], ['107/08/09', '3,503', '576,150', '169.00', '169.00', '162.50', '165.00', '-4.00', '2,536'], ['107/08/10', '5,617', '926,131', '165.00', '168.50', '161.00', '165.00', '0.00', '3,840'], ['107/08/13', '6,649', '1,034,815', '162.50', '164.00', '149.00', '153.50', '-11.50', '4,757'], ['107/08/14', '3,927', '610,701', '156.00', '158.00', '152.50', '156.00', '2.50', '2,960'], ['107/08/15', '10,765', '1,583,501', '155.50', '155.50', '144.00', '145.50', '-10.50', '7,441'], ['107/08/16', '9,297', '1,299,501', '136.50', '144.00', '134.50', '144.00', '-1.50', '6,389'], ['107/08/17', '7,691', '1,142,877', '147.00', '152.00', '145.50', '146.50', '2.50', '5,404'], ['107/08/20', '6,703', '1,005,302', '149.00', '153.00', '147.00', '151.00', '4.50', '4,448'], ['107/08/21', '7,300', '1,141,418', '152.00', '159.50', '152.00', '158.50', '7.50', '5,298'], ['107/08/22', '13,326', '2,197,711', '162.50', '168.00', '161.50', '162.50', '4.00', '9,095'], ['107/08/23', '7,703', '1,236,515', '162.50', '163.00', '158.00', '160.00', '-2.50', '5,391'], ['107/08/24', '7,552', '1,199,562', '158.00', '163.00', '155.00', '162.00', '2.00', '5,374'], ['107/08/27', '5,327', '864,448', '164.00', '164.00', '160.00', '162.50', '0.50', '3,675'], ['107/08/28', '6,926', '1,141,321', '163.00', '167.00', '161.00', '161.00', '-1.50', '4,613'], ['107/08/29', '3,290', '531,782', '162.00', '164.00', '159.50', '161.00', '0.00', '2,348'], ['107/08/30', '7,243', '1,198,638', '162.50', '167.00', '162.50', '166.00', '5.00', '4,891'], ['107/08/31', '4,071', '674,216', '165.00', '167.00', '163.50', '166.50', '0.50', '2,685']]}\n"
          ]
        },
        {
          "output_type": "stream",
          "name": "stderr",
          "text": [
            "<ipython-input-24-e21c15ecc88a>:26: DeprecationWarning: invalid escape sequence '\\/'\n",
            "  traditional_content = bytes(response.text, 'utf-8').decode('unicode_escape')\n"
          ]
        }
      ]
    },
    {
      "cell_type": "code",
      "source": [
        "# 假設您的網頁內容已儲存在 webpage_content 變數中\n",
        "webpage_content = \"\\u7a69\\u4e00\\u4e8c\\u4e09\"  # 假設這是網頁內容的一部分，以Unicode編碼表示\n",
        "\n",
        "decoded_content = bytes(webpage_content, 'utf-8').decode('unicode_escape')\n",
        "\n",
        "print(decoded_content)  # 輸出解碼後的中文內容\n"
      ],
      "metadata": {
        "colab": {
          "base_uri": "https://localhost:8080/"
        },
        "id": "0K2tO-s0OmyL",
        "outputId": "b58886cf-31f1-4be2-fe63-f6dc3397c106"
      },
      "execution_count": 18,
      "outputs": [
        {
          "output_type": "stream",
          "name": "stdout",
          "text": [
            "ç©©ä¸äºä¸\n"
          ]
        }
      ]
    },
    {
      "cell_type": "code",
      "execution_count": 10,
      "metadata": {
        "colab": {
          "base_uri": "https://localhost:8080/"
        },
        "id": "DTqSqARodVfH",
        "outputId": "c22430b8-faaf-491d-a23f-0c991819691d"
      },
      "outputs": [
        {
          "output_type": "stream",
          "name": "stdout",
          "text": [
            "/content/drive/My Drive/ColabData/110 生產總表.xlsx 資料已擷取到 /content/drive/My Drive/ColabData/result_110v0.txt\n"
          ]
        }
      ],
      "source": [
        "from openpyxl import load_workbook\n",
        "import re\n",
        "\n",
        "# 事先需要先將Excel檔案上傳到Google Drive的ColabData資料夾\n",
        "# 載入 Excel 檔案\n",
        "file_path = r'/content/drive/My Drive/ColabData/110 生產總表.xlsx'\n",
        "workbook = load_workbook(filename=file_path)\n",
        "output_file_name = \"/content/drive/My Drive/ColabData/result_110v0.txt\"\n",
        "\n",
        "# 開啟文字檔案以寫入模式\n",
        "with open(output_file_name, 'w', encoding='utf-8') as file:\n",
        "    # 取得所有工作表的名稱\n",
        "    sheet_names = workbook.sheetnames\n",
        "\n",
        "    # 迭代每個工作表並擷取儲存格內容\n",
        "    for sheet_name in sheet_names:\n",
        "        sheet = workbook[sheet_name]\n",
        "        file.write(f\"工作表名稱：{sheet_name}\\n\")\n",
        "\n",
        "        # 獲取實際使用的最大行數和最大列數\n",
        "        max_row = sheet.max_row\n",
        "        max_col = sheet.max_column\n",
        "        title_row = [\"\"]\n",
        "\n",
        "        # 迭代每一列，限制到實際使用的最大行數\n",
        "        for row_index in range(1, max_row + 1):\n",
        "            isEmpty = True\n",
        "            col_no = 1\n",
        "            row_data = []\n",
        "\n",
        "            # 迭代每一個儲存格\n",
        "            for col_index in range(1, max_col + 1):\n",
        "                cell_value = sheet.cell(row=row_index, column=col_index).value\n",
        "                cell_txt = re.sub(r'\\s+',' ',str(cell_value).strip())\n",
        "                if row_index == 1:\n",
        "                    text_temp = re.sub(r'\\s','',cell_txt)\n",
        "                    text_temp = text_temp.replace('00:00:00','')\n",
        "                    title_row.append(text_temp)\n",
        "                    row_data.append(text_temp + ' ')\n",
        "                    isEmpty = False\n",
        "                else:\n",
        "                    if cell_value is not None:\n",
        "                        if cell_txt != 'None' and cell_txt.isascii:\n",
        "                            row_data.append(title_row[col_index] + '=' + str(cell_value) + ' ')\n",
        "                            isEmpty = False\n",
        "\n",
        "            if not(isEmpty):\n",
        "                # 將每一列的內容寫入文字檔\n",
        "                file.write(''.join(row_data) + '\\n')\n",
        "\n",
        "\n",
        "# 關閉 Excel 檔案\n",
        "workbook.close()\n",
        "print(f\"{file_path} 資料已擷取到 {output_file_name}\")\n"
      ]
    },
    {
      "cell_type": "code",
      "source": [
        "import pandas as pd\n",
        "\n",
        "# 讀取 Google Drive 中的 Excel 檔案\n",
        "file_path = '/content/drive/My Drive/ColabData/111 生產總表.xlsx'\n",
        "df = pd.read_excel(file_path)\n",
        "\n",
        "# 顯示讀取的資料\n",
        "print(df)\n"
      ],
      "metadata": {
        "id": "78aWYyeUtguq"
      },
      "execution_count": null,
      "outputs": []
    }
  ]
}